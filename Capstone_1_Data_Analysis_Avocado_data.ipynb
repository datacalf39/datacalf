{
  "nbformat": 4,
  "nbformat_minor": 0,
  "metadata": {
    "colab": {
      "name": "Archana-Capstone 1 Data Analysis Avocado_data.ipynb",
      "provenance": [],
      "include_colab_link": true
    },
    "kernelspec": {
      "name": "python3",
      "display_name": "Python 3"
    }
  },
  "cells": [
    {
      "cell_type": "markdown",
      "metadata": {
        "id": "view-in-github",
        "colab_type": "text"
      },
      "source": [
        "<a href=\"https://colab.research.google.com/github/datacalf39/datacalf/blob/master/Capstone_1_Data_Analysis_Avocado_data.ipynb\" target=\"_parent\"><img src=\"https://colab.research.google.com/assets/colab-badge.svg\" alt=\"Open In Colab\"/></a>"
      ]
    },
    {
      "cell_type": "markdown",
      "metadata": {
        "id": "iRoTFhLkRCqO",
        "colab_type": "text"
      },
      "source": [
        "#1. Introduction \n",
        "Over the last few years, avocado toast and well, avocados in general have been an obsession among many. Though there are many species of avocados, the Hass avocado is undoubtedly the most popular and the represental the classic visual of the avocado with its bumpy dark green skin. The Hass avocado was first grown by horticulturalist Rudolph Hass in Southern California and now accounts for 80 percent of the avocado crop in the United States and 95 percent of avocado crop in California. Since the Hass avocado is the most grown avocado crop in the United States, I thought it would be interesting to look further into the prices of the Hass avocado and the volumes sold in major cities across the country. "
      ]
    },
    {
      "cell_type": "markdown",
      "metadata": {
        "id": "Mt7Bj5flVFoO",
        "colab_type": "text"
      },
      "source": [
        "# 2. Hypothesis \n",
        "-I hypothesize that there will be no significant difference between the average price of organic and conventional avocados across the country \n",
        "-I hypothesize that there will be a greater amount of conventional avocados sold per day than organic avocados \n",
        "-I hypothesize that a greater number of small bags of organic avocados will be sold per day than large bags of organic avocados\n",
        "-I hypothesize that a greater number of large bags of conventional avocados will be sold per day than small bags of conventional avocados "
      ]
    },
    {
      "cell_type": "markdown",
      "metadata": {
        "id": "6tOqLm8lWVkh",
        "colab_type": "text"
      },
      "source": [
        "# 3. Data\n",
        "The dataset I have was taken from Kaggle and given by the vendor \"Justin Kiggins\" who is a product manager at the Chan Zuckerberg Initiative in Redwood City California. The data set was originally given to the vendor by the Hass Avocado Board. The data has 18249 rows and 13 columns. The columns of most importance that I will be focusing on are \"Average Price\", \"Total Volume\" , and \"Type\". The dataset examines characteristics of Hass Avocado sales and production from 3rd Janurary 2015 to March 24th 2018. "
      ]
    },
    {
      "cell_type": "code",
      "metadata": {
        "id": "uep3sIZUXoUg",
        "colab_type": "code",
        "colab": {}
      },
      "source": [
        "import math\n",
        "import pandas as pd\n",
        "import numpy as np\n",
        "from scipy import stats\n",
        "import matplotlib.pyplot as plt\n",
        "import pandas as pd\n",
        "import datetime as dt"
      ],
      "execution_count": null,
      "outputs": []
    },
    {
      "cell_type": "code",
      "metadata": {
        "id": "zqoEo24zXrHN",
        "colab_type": "code",
        "colab": {}
      },
      "source": [
        "avocado_data = pd.read_csv('https://raw.githubusercontent.com/datacalf39/File-Uploads-/master/avocado.csv')"
      ],
      "execution_count": null,
      "outputs": []
    },
    {
      "cell_type": "code",
      "metadata": {
        "id": "HGfyByHrXu74",
        "colab_type": "code",
        "colab": {
          "base_uri": "https://localhost:8080/",
          "height": 374
        },
        "outputId": "a119c4d5-182d-41a7-887d-ad59044eb3e4"
      },
      "source": [
        "avocado_data.info()"
      ],
      "execution_count": null,
      "outputs": [
        {
          "output_type": "stream",
          "text": [
            "<class 'pandas.core.frame.DataFrame'>\n",
            "RangeIndex: 18249 entries, 0 to 18248\n",
            "Data columns (total 14 columns):\n",
            " #   Column        Non-Null Count  Dtype  \n",
            "---  ------        --------------  -----  \n",
            " 0   Unnamed: 0    18249 non-null  int64  \n",
            " 1   Date          18249 non-null  object \n",
            " 2   AveragePrice  18249 non-null  float64\n",
            " 3   Total Volume  18249 non-null  float64\n",
            " 4   4046          18249 non-null  float64\n",
            " 5   4225          18249 non-null  float64\n",
            " 6   4770          18249 non-null  float64\n",
            " 7   Total Bags    18249 non-null  float64\n",
            " 8   Small Bags    18249 non-null  float64\n",
            " 9   Large Bags    18249 non-null  float64\n",
            " 10  XLarge Bags   18249 non-null  float64\n",
            " 11  type          18249 non-null  object \n",
            " 12  year          18249 non-null  int64  \n",
            " 13  region        18249 non-null  object \n",
            "dtypes: float64(9), int64(2), object(3)\n",
            "memory usage: 1.9+ MB\n"
          ],
          "name": "stdout"
        }
      ]
    },
    {
      "cell_type": "code",
      "metadata": {
        "id": "LnYZNk6db0ZI",
        "colab_type": "code",
        "colab": {
          "base_uri": "https://localhost:8080/",
          "height": 374
        },
        "outputId": "a7a8dd4a-8b9d-4da6-99ec-1959b539bdec"
      },
      "source": [
        "avocado_data.info()"
      ],
      "execution_count": null,
      "outputs": [
        {
          "output_type": "stream",
          "text": [
            "<class 'pandas.core.frame.DataFrame'>\n",
            "RangeIndex: 18249 entries, 0 to 18248\n",
            "Data columns (total 14 columns):\n",
            " #   Column        Non-Null Count  Dtype  \n",
            "---  ------        --------------  -----  \n",
            " 0   Unnamed: 0    18249 non-null  int64  \n",
            " 1   Date          18249 non-null  object \n",
            " 2   AveragePrice  18249 non-null  float64\n",
            " 3   Total Volume  18249 non-null  float64\n",
            " 4   4046          18249 non-null  float64\n",
            " 5   4225          18249 non-null  float64\n",
            " 6   4770          18249 non-null  float64\n",
            " 7   Total Bags    18249 non-null  float64\n",
            " 8   Small Bags    18249 non-null  float64\n",
            " 9   Large Bags    18249 non-null  float64\n",
            " 10  XLarge Bags   18249 non-null  float64\n",
            " 11  type          18249 non-null  object \n",
            " 12  year          18249 non-null  int64  \n",
            " 13  region        18249 non-null  object \n",
            "dtypes: float64(9), int64(2), object(3)\n",
            "memory usage: 1.9+ MB\n"
          ],
          "name": "stdout"
        }
      ]
    },
    {
      "cell_type": "code",
      "metadata": {
        "id": "aNWi5QbU5pd0",
        "colab_type": "code",
        "colab": {
          "base_uri": "https://localhost:8080/",
          "height": 238
        },
        "outputId": "f535c0b6-d3b8-4cd2-b006-22cdc10f0682"
      },
      "source": [
        "avocado_data.region.unique()"
      ],
      "execution_count": null,
      "outputs": [
        {
          "output_type": "execute_result",
          "data": {
            "text/plain": [
              "array(['Albany', 'Atlanta', 'BaltimoreWashington', 'Boise', 'Boston',\n",
              "       'BuffaloRochester', 'California', 'Charlotte', 'Chicago',\n",
              "       'CincinnatiDayton', 'Columbus', 'DallasFtWorth', 'Denver',\n",
              "       'Detroit', 'GrandRapids', 'GreatLakes', 'HarrisburgScranton',\n",
              "       'HartfordSpringfield', 'Houston', 'Indianapolis', 'Jacksonville',\n",
              "       'LasVegas', 'LosAngeles', 'Louisville', 'MiamiFtLauderdale',\n",
              "       'Midsouth', 'Nashville', 'NewOrleansMobile', 'NewYork',\n",
              "       'Northeast', 'NorthernNewEngland', 'Orlando', 'Philadelphia',\n",
              "       'PhoenixTucson', 'Pittsburgh', 'Plains', 'Portland',\n",
              "       'RaleighGreensboro', 'RichmondNorfolk', 'Roanoke', 'Sacramento',\n",
              "       'SanDiego', 'SanFrancisco', 'Seattle', 'SouthCarolina',\n",
              "       'SouthCentral', 'Southeast', 'Spokane', 'StLouis', 'Syracuse',\n",
              "       'Tampa', 'TotalUS', 'West', 'WestTexNewMexico'], dtype=object)"
            ]
          },
          "metadata": {
            "tags": []
          },
          "execution_count": 6
        }
      ]
    },
    {
      "cell_type": "code",
      "metadata": {
        "id": "N5gtKVecNfcw",
        "colab_type": "code",
        "colab": {}
      },
      "source": [
        "# Dropping regions from dataset so that the dataset only includes major cities \n",
        "#removal_list =[ 'Total US', 'California', 'SouthCarolina', 'West', 'NorthernNewEngland', 'Southeast', 'WestTexNewMexico', 'Midsouth'] \n",
        "\n",
        "#indexNames = avocado_data[(avocado_data['region'] == 'TotalUS') ].index\n",
        "\n",
        "#avocado_data.drop(indexNames , inplace=True)\n",
        "\n",
        "#indexNames_2 = avocado_data[(avocado_data['region'] == 'California')].index\n",
        "\n",
        "#avocado_data.drop(indexNames_2 , inplace=True)\n",
        "\n",
        "#indexNames_3 = avocado_data[(avocado_data['region'] == 'SouthCarolina')].index\n",
        "\n",
        "#avocado_data.drop(indexNames_3 , inplace=True)\n",
        "\n",
        "#indexNames_4 = avocado_data[(avocado_data['region'] == 'West')].index\n",
        "\n",
        "#avocado_data.drop(indexNames_4 , inplace=True)\n",
        "\n",
        "#indexNames_5 = avocado_data[(avocado_data['region'] == 'NorthernNewEngland')].index\n",
        "\n",
        "#avocado_data.drop(indexNames_5 , inplace=True)\n",
        "\n",
        "#indexNames_6 = avocado_data[(avocado_data['region'] == 'Southeast')].index\n",
        "\n",
        "#avocado_data.drop(indexNames_6 , inplace=True)\n",
        "\n",
        "#indexNames_7 = avocado_data[(avocado_data['region'] == 'WestTexNewMexico')].index\n",
        "\n",
        "#avocado_data.drop(indexNames_7 , inplace=True)\n",
        "\n",
        "#indexNames_8 = avocado_data[(avocado_data['region'] == 'Midsouth')].index\n",
        "\n",
        "#avocado_data.drop(indexNames_8 , inplace=True)"
      ],
      "execution_count": null,
      "outputs": []
    },
    {
      "cell_type": "code",
      "metadata": {
        "id": "ATVJry9a3lik",
        "colab_type": "code",
        "colab": {}
      },
      "source": [
        "removal_list =[ 'Total US', 'California', 'SouthCarolina', 'West', 'NorthernNewEngland', 'Southeast', 'WestTexNewMexico', 'Midsouth'] \n",
        "\n",
        "indexNames_8 = avocado_data[(avocado_data['region'].isin(removal_list))].index\n",
        "\n",
        "avocado_data.drop(indexNames_8 , inplace=True)\n",
        "\n"
      ],
      "execution_count": null,
      "outputs": []
    },
    {
      "cell_type": "code",
      "metadata": {
        "id": "701uMsiVNujy",
        "colab_type": "code",
        "colab": {
          "base_uri": "https://localhost:8080/",
          "height": 221
        },
        "outputId": "d0fd6c99-7a20-4b62-9c5c-2ec821b7aa5c"
      },
      "source": [
        "#Checking for proper removal of regions \n",
        "avocado_data.region.unique()"
      ],
      "execution_count": null,
      "outputs": [
        {
          "output_type": "execute_result",
          "data": {
            "text/plain": [
              "array(['Albany', 'Atlanta', 'BaltimoreWashington', 'Boise', 'Boston',\n",
              "       'BuffaloRochester', 'Charlotte', 'Chicago', 'CincinnatiDayton',\n",
              "       'Columbus', 'DallasFtWorth', 'Denver', 'Detroit', 'GrandRapids',\n",
              "       'GreatLakes', 'HarrisburgScranton', 'HartfordSpringfield',\n",
              "       'Houston', 'Indianapolis', 'Jacksonville', 'LasVegas',\n",
              "       'LosAngeles', 'Louisville', 'MiamiFtLauderdale', 'Nashville',\n",
              "       'NewOrleansMobile', 'NewYork', 'Northeast', 'Orlando',\n",
              "       'Philadelphia', 'PhoenixTucson', 'Pittsburgh', 'Plains',\n",
              "       'Portland', 'RaleighGreensboro', 'RichmondNorfolk', 'Roanoke',\n",
              "       'Sacramento', 'SanDiego', 'SanFrancisco', 'Seattle',\n",
              "       'SouthCentral', 'Spokane', 'StLouis', 'Syracuse', 'Tampa',\n",
              "       'TotalUS'], dtype=object)"
            ]
          },
          "metadata": {
            "tags": []
          },
          "execution_count": 9
        }
      ]
    },
    {
      "cell_type": "code",
      "metadata": {
        "id": "B6x9qrZgP_5k",
        "colab_type": "code",
        "colab": {}
      },
      "source": [
        "#Renaming \"Total Volume\" column to \"Number Sold Per Day\" so it makes more sense as to what it is referring to \n",
        "avocado_data.rename(columns = {'Total Volume':'Number Sold Per Day'}, inplace = True) "
      ],
      "execution_count": null,
      "outputs": []
    },
    {
      "cell_type": "markdown",
      "metadata": {
        "id": "7vGDgQz3Y2-a",
        "colab_type": "text"
      },
      "source": [
        "#4. Methods\n",
        "Here I created different dataframes for my four histogram plots. Intially I removed all rows that had \"TotalUS\", \"California\" and \"SouthCarolina\" as regions because those represented states and the country whereas the other regions in the dataset were cities. First, I separated organic from conventional data from the initial dataset so that I could compare the average prices for my first histogram. I then used then used those separated datasets to them compare the total number of organic avocados sold per day to the total number of conventional avocados sold per day in my second histogram. For this histogram, I took the log values of the total numbers for both organic and conventional data for easier plotting because their values were so high. For my third histogram, I made new dataframes that separated the organic avocado data frame so that one dataframe contained information about the small bags being sold and the other had information about the large bags being sold. I then took a log of those numbers for my histogram for easier plotting since their values were so large. For my fourth histogram, I did the same thing as I did with my third histogram except instead of doing that with the organic avocado data, I used the conventional avocado data again to compare the number of small bags sold with the number of large bags sold. "
      ]
    },
    {
      "cell_type": "code",
      "metadata": {
        "id": "wmO5JpIWZk8I",
        "colab_type": "code",
        "colab": {
          "base_uri": "https://localhost:8080/",
          "height": 323
        },
        "outputId": "4362d89f-5cb7-41f9-c1b2-6620d9a2c1e6"
      },
      "source": [
        "#Overview of the entire dataset \n",
        "avocado_data.head()"
      ],
      "execution_count": null,
      "outputs": [
        {
          "output_type": "execute_result",
          "data": {
            "text/html": [
              "<div>\n",
              "<style scoped>\n",
              "    .dataframe tbody tr th:only-of-type {\n",
              "        vertical-align: middle;\n",
              "    }\n",
              "\n",
              "    .dataframe tbody tr th {\n",
              "        vertical-align: top;\n",
              "    }\n",
              "\n",
              "    .dataframe thead th {\n",
              "        text-align: right;\n",
              "    }\n",
              "</style>\n",
              "<table border=\"1\" class=\"dataframe\">\n",
              "  <thead>\n",
              "    <tr style=\"text-align: right;\">\n",
              "      <th></th>\n",
              "      <th>Unnamed: 0</th>\n",
              "      <th>Date</th>\n",
              "      <th>AveragePrice</th>\n",
              "      <th>Number Sold Per Day</th>\n",
              "      <th>4046</th>\n",
              "      <th>4225</th>\n",
              "      <th>4770</th>\n",
              "      <th>Total Bags</th>\n",
              "      <th>Small Bags</th>\n",
              "      <th>Large Bags</th>\n",
              "      <th>XLarge Bags</th>\n",
              "      <th>type</th>\n",
              "      <th>year</th>\n",
              "      <th>region</th>\n",
              "    </tr>\n",
              "  </thead>\n",
              "  <tbody>\n",
              "    <tr>\n",
              "      <th>0</th>\n",
              "      <td>0</td>\n",
              "      <td>2015-12-27</td>\n",
              "      <td>1.33</td>\n",
              "      <td>64236.62</td>\n",
              "      <td>1036.74</td>\n",
              "      <td>54454.85</td>\n",
              "      <td>48.16</td>\n",
              "      <td>8696.87</td>\n",
              "      <td>8603.62</td>\n",
              "      <td>93.25</td>\n",
              "      <td>0.0</td>\n",
              "      <td>conventional</td>\n",
              "      <td>2015</td>\n",
              "      <td>Albany</td>\n",
              "    </tr>\n",
              "    <tr>\n",
              "      <th>1</th>\n",
              "      <td>1</td>\n",
              "      <td>2015-12-20</td>\n",
              "      <td>1.35</td>\n",
              "      <td>54876.98</td>\n",
              "      <td>674.28</td>\n",
              "      <td>44638.81</td>\n",
              "      <td>58.33</td>\n",
              "      <td>9505.56</td>\n",
              "      <td>9408.07</td>\n",
              "      <td>97.49</td>\n",
              "      <td>0.0</td>\n",
              "      <td>conventional</td>\n",
              "      <td>2015</td>\n",
              "      <td>Albany</td>\n",
              "    </tr>\n",
              "    <tr>\n",
              "      <th>2</th>\n",
              "      <td>2</td>\n",
              "      <td>2015-12-13</td>\n",
              "      <td>0.93</td>\n",
              "      <td>118220.22</td>\n",
              "      <td>794.70</td>\n",
              "      <td>109149.67</td>\n",
              "      <td>130.50</td>\n",
              "      <td>8145.35</td>\n",
              "      <td>8042.21</td>\n",
              "      <td>103.14</td>\n",
              "      <td>0.0</td>\n",
              "      <td>conventional</td>\n",
              "      <td>2015</td>\n",
              "      <td>Albany</td>\n",
              "    </tr>\n",
              "    <tr>\n",
              "      <th>3</th>\n",
              "      <td>3</td>\n",
              "      <td>2015-12-06</td>\n",
              "      <td>1.08</td>\n",
              "      <td>78992.15</td>\n",
              "      <td>1132.00</td>\n",
              "      <td>71976.41</td>\n",
              "      <td>72.58</td>\n",
              "      <td>5811.16</td>\n",
              "      <td>5677.40</td>\n",
              "      <td>133.76</td>\n",
              "      <td>0.0</td>\n",
              "      <td>conventional</td>\n",
              "      <td>2015</td>\n",
              "      <td>Albany</td>\n",
              "    </tr>\n",
              "    <tr>\n",
              "      <th>4</th>\n",
              "      <td>4</td>\n",
              "      <td>2015-11-29</td>\n",
              "      <td>1.28</td>\n",
              "      <td>51039.60</td>\n",
              "      <td>941.48</td>\n",
              "      <td>43838.39</td>\n",
              "      <td>75.78</td>\n",
              "      <td>6183.95</td>\n",
              "      <td>5986.26</td>\n",
              "      <td>197.69</td>\n",
              "      <td>0.0</td>\n",
              "      <td>conventional</td>\n",
              "      <td>2015</td>\n",
              "      <td>Albany</td>\n",
              "    </tr>\n",
              "  </tbody>\n",
              "</table>\n",
              "</div>"
            ],
            "text/plain": [
              "   Unnamed: 0        Date  AveragePrice  ...          type  year  region\n",
              "0           0  2015-12-27          1.33  ...  conventional  2015  Albany\n",
              "1           1  2015-12-20          1.35  ...  conventional  2015  Albany\n",
              "2           2  2015-12-13          0.93  ...  conventional  2015  Albany\n",
              "3           3  2015-12-06          1.08  ...  conventional  2015  Albany\n",
              "4           4  2015-11-29          1.28  ...  conventional  2015  Albany\n",
              "\n",
              "[5 rows x 14 columns]"
            ]
          },
          "metadata": {
            "tags": []
          },
          "execution_count": 11
        }
      ]
    },
    {
      "cell_type": "code",
      "metadata": {
        "id": "bbPs7shBhOKv",
        "colab_type": "code",
        "colab": {}
      },
      "source": [
        "#Function for 95 confidence interval test for later use\n",
        "def get_95_ci(array_1, array_2):\n",
        "    sample_1_n = array_1.shape[0]\n",
        "    sample_2_n = array_2.shape[0]\n",
        "    sample_1_mean = array_1.mean()\n",
        "    sample_2_mean = array_2.mean()\n",
        "    sample_1_var = array_1.var()\n",
        "    sample_2_var = array_2.var()\n",
        "    mean_difference = sample_2_mean - sample_1_mean\n",
        "    std_err_difference = math.sqrt((sample_1_var/sample_1_n)+(sample_2_var/sample_2_n))\n",
        "    margin_of_error = 1.96 * std_err_difference\n",
        "    ci_lower = mean_difference - margin_of_error\n",
        "    ci_upper = mean_difference + margin_of_error\n",
        "    return(\"The difference in means at the 95% confidence interval (two-tail) is between \"+str(ci_lower)+\" and \"+str(ci_upper)+\".\")\n"
      ],
      "execution_count": null,
      "outputs": []
    },
    {
      "cell_type": "code",
      "metadata": {
        "id": "2ttOCpyYZqYs",
        "colab_type": "code",
        "colab": {}
      },
      "source": [
        "#Removing all the organic avocado from the intial dataframe so that it shows data from just the conventional avocados\n",
        "conventional_data = avocado_data.loc[(avocado_data['type']== 'conventional')]\n",
        "#Sectioning the conventional avocado data so it just shows average price and the type\n",
        "section_conventional_data = conventional_data[[ 'AveragePrice', 'type']]"
      ],
      "execution_count": null,
      "outputs": []
    },
    {
      "cell_type": "code",
      "metadata": {
        "id": "xAHFuRV_aIoR",
        "colab_type": "code",
        "colab": {}
      },
      "source": [
        "#Removing all the conventional avocado from the intial dataframe so that it shows data from just the organic avocados\n",
        "organic_data = avocado_data.loc[(avocado_data['type']== 'organic')]\n",
        "#Sectioning the organic avocado data so it just shows average price and the type\n",
        "section_organic_data = organic_data[[ 'AveragePrice', 'type']]"
      ],
      "execution_count": null,
      "outputs": []
    },
    {
      "cell_type": "code",
      "metadata": {
        "id": "j-dZT1qwaUuK",
        "colab_type": "code",
        "colab": {
          "base_uri": "https://localhost:8080/",
          "height": 319
        },
        "outputId": "014fa618-6f91-4361-fd65-74c7a76ad0e8"
      },
      "source": [
        "#Plotting the average price of conventional avocados and organic avocados and assessing for normality\n",
        "plt.hist(section_conventional_data['AveragePrice'], alpha = .5,color='deepskyblue')\n",
        "plt.hist(section_organic_data['AveragePrice'], alpha = .5,color='lightpink')\n",
        "plt.show()\n",
        "\n",
        "print(stats.describe(section_conventional_data['AveragePrice']))\n",
        "print(stats.describe(section_organic_data['AveragePrice']))"
      ],
      "execution_count": null,
      "outputs": [
        {
          "output_type": "display_data",
          "data": {
            "image/png": "[encoded data removed]",
            "text/plain": [
              "<Figure size 432x288 with 1 Axes>"
            ]
          },
          "metadata": {
            "tags": [],
            "needs_background": "light"
          }
        },
        {
          "output_type": "stream",
          "text": [
            "DescribeResult(nobs=7943, minmax=(0.46, 2.22), mean=1.1664862142767216, variance=0.0712825271015441, skewness=0.44736748330760195, kurtosis=0.14099699255826303)\n",
            "DescribeResult(nobs=7943, minmax=(0.44, 3.25), mean=1.655166813546519, variance=0.14066818861395755, skewness=0.40919978615096275, kurtosis=0.6621576849922799)\n"
          ],
          "name": "stdout"
        }
      ]
    },
    {
      "cell_type": "code",
      "metadata": {
        "id": "aSabZgWqbJwj",
        "colab_type": "code",
        "colab": {
          "base_uri": "https://localhost:8080/",
          "height": 34
        },
        "outputId": "19996442-1c08-4ce9-ea5e-f91f156236e5"
      },
      "source": [
        "#Since data is normally distributed, using t test to check for significance \n",
        "print(stats.ttest_ind(section_conventional_data['AveragePrice'],section_organic_data['AveragePrice']))"
      ],
      "execution_count": null,
      "outputs": [
        {
          "output_type": "stream",
          "text": [
            "Ttest_indResult(statistic=-94.6019166440729, pvalue=0.0)\n"
          ],
          "name": "stdout"
        }
      ]
    },
    {
      "cell_type": "code",
      "metadata": {
        "id": "NylkK7GXhZM4",
        "colab_type": "code",
        "colab": {
          "base_uri": "https://localhost:8080/",
          "height": 88
        },
        "outputId": "482034af-8517-4778-93d1-fc1e7cc9c20a"
      },
      "source": [
        "#95% confidence interval test and means of each variable\n",
        "print(get_95_ci(section_conventional_data['AveragePrice'], section_conventional_data['AveragePrice']))\n",
        "\n",
        "\n",
        "print(section_conventional_data['AveragePrice'].mean())\n",
        "print(section_organic_data['AveragePrice'].mean())"
      ],
      "execution_count": null,
      "outputs": [
        {
          "output_type": "stream",
          "text": [
            "The difference in means at the 95% confidence interval (two-tail) is between -0.008303674789529722 and 0.008303674789529722.\n",
            "1.16648621427672\n",
            "1.6551668135465167\n"
          ],
          "name": "stdout"
        }
      ]
    },
    {
      "cell_type": "code",
      "metadata": {
        "id": "vOm2kIJwbgfE",
        "colab_type": "code",
        "colab": {}
      },
      "source": [
        "#Number Sold Per Day Values are high so taking the log of those values for better plots \n",
        "organic_data['Log of Number Sold Per Day']=np.log(organic_data['Number Sold Per Day'])\n",
        "\n",
        "conventional_data['Log of Number Sold Per Day']=np.log(conventional_data['Number Sold Per Day'])"
      ],
      "execution_count": null,
      "outputs": []
    },
    {
      "cell_type": "code",
      "metadata": {
        "id": "Ozw7Y0eFcRqt",
        "colab_type": "code",
        "colab": {
          "base_uri": "https://localhost:8080/",
          "height": 319
        },
        "outputId": "eba68477-ef31-47f4-985b-d6e233ff44e6"
      },
      "source": [
        "#Plotting the log values of number sold per day of conventional and organic avocados and assessing for normality\n",
        "plt.hist(conventional_data['Log of Number Sold Per Day'], alpha = .5,color='lime')\n",
        "plt.hist(organic_data['Log of Number Sold Per Day'], alpha = .5,color='orchid')\n",
        "plt.show()\n",
        "\n",
        "print(stats.describe(conventional_data['Log of Number Sold Per Day']))\n",
        "print(stats.describe(organic_data['Log of Number Sold Per Day']))"
      ],
      "execution_count": null,
      "outputs": [
        {
          "output_type": "display_data",
          "data": {
            "image/png": "[encoded data removed]",
            "text/plain": [
              "<Figure size 432x288 with 1 Axes>"
            ]
          },
          "metadata": {
            "tags": [],
            "needs_background": "light"
          }
        },
        {
          "output_type": "stream",
          "text": [
            "DescribeResult(nobs=7943, minmax=(10.425243620746409, 17.95076745494583), mean=12.964262913159738, variance=1.6042969355266035, skewness=1.0216294635376553, kurtosis=1.5061089413624433)\n",
            "DescribeResult(nobs=7943, minmax=(4.437461341561982, 14.411557440914667), mean=9.32098262175452, variance=1.8931955478626266, skewness=0.7656852535477817, kurtosis=0.9718094330412086)\n"
          ],
          "name": "stdout"
        }
      ]
    },
    {
      "cell_type": "code",
      "metadata": {
        "id": "UJYMY62vcwxw",
        "colab_type": "code",
        "colab": {
          "base_uri": "https://localhost:8080/",
          "height": 34
        },
        "outputId": "fc09c225-f8f3-4d9d-d265-6b880b5881f9"
      },
      "source": [
        "#Since data is normally distributed, using t test to check for significance \n",
        "print(stats.ttest_ind(conventional_data['Log of Number Sold Per Day'],organic_data['Log of Number Sold Per Day']))"
      ],
      "execution_count": null,
      "outputs": [
        {
          "output_type": "stream",
          "text": [
            "Ttest_indResult(statistic=173.62268608408885, pvalue=0.0)\n"
          ],
          "name": "stdout"
        }
      ]
    },
    {
      "cell_type": "code",
      "metadata": {
        "id": "tzau72jaiQ7C",
        "colab_type": "code",
        "colab": {
          "base_uri": "https://localhost:8080/",
          "height": 68
        },
        "outputId": "3dbfd03a-d361-4414-c60f-6ff221f985be"
      },
      "source": [
        "#95% confidence interval test and means of each variable\n",
        "print(get_95_ci(conventional_data['Log of Number Sold Per Day'], organic_data['Log of Number Sold Per Day']))\n",
        "\n",
        "\n",
        "print(organic_data['Log of Number Sold Per Day'].mean())\n",
        "print(conventional_data['Log of Number Sold Per Day'].mean())"
      ],
      "execution_count": null,
      "outputs": [
        {
          "output_type": "stream",
          "text": [
            "The difference in means at the 95% confidence interval (two-tail) is between -3.684408726474462 and -3.602151856336008.\n",
            "9.320982621754494\n",
            "12.964262913159729\n"
          ],
          "name": "stdout"
        }
      ]
    },
    {
      "cell_type": "code",
      "metadata": {
        "id": "YSf-2svYsIhq",
        "colab_type": "code",
        "colab": {
          "base_uri": "https://localhost:8080/",
          "height": 269
        },
        "outputId": "a65a2247-c5b6-435c-8fb3-e8a83f2af324"
      },
      "source": [
        "#The values given are all in log form in previous cell, so taking the inverse log to get exact value\n",
        "confidence_interval_volume_1 = math.pow ( 10 , -3.693632556321322 )\n",
        "confidence_interval_volume_2 = math.pow ( 10 , -3.6131433868990155 )\n",
        "print(organic_data['Number Sold Per Day'].mean())\n",
        "#mean_of_organic_volume = math.pow ( 10 , 9.48929987476525 )\n",
        "#mean_of_conventional_volume = math.pow ( 10 , 13.142687846375418 )\n",
        "\n",
        "print('The difference in means at the 95% confidence interval (two-tail) is between '  +str(confidence_interval_volume_1)+  ' and ' +str(confidence_interval_volume_2)+ \".\")\n",
        "#print(mean_of_organic_volume)\n",
        "#print(mean_of_conventional_volume)"
      ],
      "execution_count": null,
      "outputs": [
        {
          "output_type": "stream",
          "text": [
            "42694.92376683879\n",
            "The difference in means at the 95% confidence interval (two-tail) is between 0.00020247315194748438 and 0.00024370060822951535.\n"
          ],
          "name": "stdout"
        },
        {
          "output_type": "error",
          "ename": "NameError",
          "evalue": "ignored",
          "traceback": [
            "\u001b[0;31m---------------------------------------------------------------------------\u001b[0m",
            "\u001b[0;31mNameError\u001b[0m                                 Traceback (most recent call last)",
            "\u001b[0;32m<ipython-input-22-81b20f8322e3>\u001b[0m in \u001b[0;36m<module>\u001b[0;34m()\u001b[0m\n\u001b[1;32m      6\u001b[0m \u001b[0;34m\u001b[0m\u001b[0m\n\u001b[1;32m      7\u001b[0m \u001b[0mprint\u001b[0m\u001b[0;34m(\u001b[0m\u001b[0;34m'The difference in means at the 95% confidence interval (two-tail) is between '\u001b[0m  \u001b[0;34m+\u001b[0m\u001b[0mstr\u001b[0m\u001b[0;34m(\u001b[0m\u001b[0mconfidence_interval_volume_1\u001b[0m\u001b[0;34m)\u001b[0m\u001b[0;34m+\u001b[0m  \u001b[0;34m' and '\u001b[0m \u001b[0;34m+\u001b[0m\u001b[0mstr\u001b[0m\u001b[0;34m(\u001b[0m\u001b[0mconfidence_interval_volume_2\u001b[0m\u001b[0;34m)\u001b[0m\u001b[0;34m+\u001b[0m \u001b[0;34m\".\"\u001b[0m\u001b[0;34m)\u001b[0m\u001b[0;34m\u001b[0m\u001b[0;34m\u001b[0m\u001b[0m\n\u001b[0;32m----> 8\u001b[0;31m \u001b[0mprint\u001b[0m\u001b[0;34m(\u001b[0m\u001b[0mmean_of_organic_volume\u001b[0m\u001b[0;34m)\u001b[0m\u001b[0;34m\u001b[0m\u001b[0;34m\u001b[0m\u001b[0m\n\u001b[0m\u001b[1;32m      9\u001b[0m \u001b[0mprint\u001b[0m\u001b[0;34m(\u001b[0m\u001b[0mmean_of_conventional_volume\u001b[0m\u001b[0;34m)\u001b[0m\u001b[0;34m\u001b[0m\u001b[0;34m\u001b[0m\u001b[0m\n",
            "\u001b[0;31mNameError\u001b[0m: name 'mean_of_organic_volume' is not defined"
          ]
        }
      ]
    },
    {
      "cell_type": "code",
      "metadata": {
        "id": "yI0Ac9fBc8dL",
        "colab_type": "code",
        "colab": {}
      },
      "source": [
        "#Separating intial dataframe so that one dataframe includes small bag data and the other shows just large bag data of organic avocados \n",
        "#Discarding null values so that when log funtion is performed, only finite values exist \n",
        "small_bag_organic = organic_data[(organic_data['Small Bags'] > 0 )]\n",
        "large_bag_organic = organic_data[(organic_data['Large Bags'] > 0 )]"
      ],
      "execution_count": null,
      "outputs": []
    },
    {
      "cell_type": "code",
      "metadata": {
        "id": "Z-kgtWyOdTP-",
        "colab_type": "code",
        "colab": {}
      },
      "source": [
        "#Taking the log of small bag and large bag data so that values are easier to plot \n",
        "#Discarding all null vlaues so only finite values exist\n",
        "small_bag_organic['Log of Small Bags']=np.log(small_bag_organic['Small Bags'])\n",
        "\n",
        "large_bag_organic['Log of Large Bags']=np.log(large_bag_organic['Large Bags'])\n"
      ],
      "execution_count": null,
      "outputs": []
    },
    {
      "cell_type": "code",
      "metadata": {
        "id": "ltwu3Wd-dkqu",
        "colab_type": "code",
        "colab": {
          "base_uri": "https://localhost:8080/",
          "height": 319
        },
        "outputId": "c9915aac-122a-4f0f-f079-b3d7087161e4"
      },
      "source": [
        "#Plotting total amount of small bags and large bags of organic avocados sold and assessing for normality\n",
        "plt.hist(small_bag_organic['Log of Small Bags'], alpha = .5,color='mediumslateblue')\n",
        "plt.hist(large_bag_organic['Log of Large Bags'], alpha = .5,color='yellow')\n",
        "plt.show()\n",
        "\n",
        "print(stats.describe(small_bag_organic['Log of Small Bags']))\n",
        "print(stats.describe(large_bag_organic['Log of Large Bags']))"
      ],
      "execution_count": null,
      "outputs": [
        {
          "output_type": "display_data",
          "data": {
            "image/png": "[encoded data removed]",
            "text/plain": [
              "<Figure size 432x288 with 1 Axes>"
            ]
          },
          "metadata": {
            "tags": []
          }
        },
        {
          "output_type": "stream",
          "text": [
            "DescribeResult(nobs=7615, minmax=(0.9242589015233319, 12.490186660027268), mean=7.6760298750319915, variance=3.2137681830326894, skewness=-0.22170327496161626, kurtosis=0.4424702103254461)\n",
            "DescribeResult(nobs=5970, minmax=(0.26236426446749106, 12.197724849431994), mean=6.314588992447152, variance=6.222261140997683, skewness=-0.4354055264810554, kurtosis=-0.6448035082720169)\n"
          ],
          "name": "stdout"
        }
      ]
    },
    {
      "cell_type": "code",
      "metadata": {
        "id": "UxdOwAiberJw",
        "colab_type": "code",
        "colab": {
          "base_uri": "https://localhost:8080/",
          "height": 34
        },
        "outputId": "ae670d5f-771d-4f22-f359-b4c8d0b094e3"
      },
      "source": [
        "#Since data is normally distributed, using t test to check for significance\n",
        "print(stats.ttest_ind(small_bag_organic['Log of Small Bags'],large_bag_organic['Log of Large Bags']))"
      ],
      "execution_count": null,
      "outputs": [
        {
          "output_type": "stream",
          "text": [
            "Ttest_indResult(statistic=36.97960324906804, pvalue=2.6438953624663675e-285)\n"
          ],
          "name": "stdout"
        }
      ]
    },
    {
      "cell_type": "code",
      "metadata": {
        "id": "YaPEQ_kdjLFb",
        "colab_type": "code",
        "colab": {
          "base_uri": "https://localhost:8080/",
          "height": 68
        },
        "outputId": "ea411614-3bfc-4fdd-8393-5212fd7649db"
      },
      "source": [
        "#95% confidence interval test and means of each variable\n",
        "print(get_95_ci(small_bag_organic['Log of Small Bags'], large_bag_organic['Log of Large Bags']))\n",
        "\n",
        "print(small_bag_organic['Log of Small Bags'].mean())\n",
        "print(large_bag_organic['Log of Large Bags'].mean())"
      ],
      "execution_count": null,
      "outputs": [
        {
          "output_type": "stream",
          "text": [
            "The difference in means at the 95% confidence interval (two-tail) is between -1.4364422251603375 and -1.2864395400093422.\n",
            "7.676029875031979\n",
            "6.314588992447139\n"
          ],
          "name": "stdout"
        }
      ]
    },
    {
      "cell_type": "code",
      "metadata": {
        "id": "UdMIrVP8zZTu",
        "colab_type": "code",
        "colab": {
          "base_uri": "https://localhost:8080/",
          "height": 68
        },
        "outputId": "ab08f8f5-7f54-4a68-9f33-3dbee1d3f5a2"
      },
      "source": [
        "#The values given are all in log form in previous cell, so taking the inverse log to get exact value\n",
        "confidence_interval_small_organic_1 = math.pow ( 10 , -1.4523793038123132 )\n",
        "confidence_interval_small_organic_2 = math.pow ( 10 , -1.305490948797169)\n",
        "mean_of_small_bag_organic = math.pow ( 10 , 8.01121489525302 )\n",
        "mean_of_large_bag_organic = math.pow ( 10 , 6.63227976894828 )\n",
        "\n",
        "print('The difference in means at the 95% confidence interval (two-tail) is between '  +str(confidence_interval_small_organic_1)+  ' and ' +str(confidence_interval_small_organic_2)+ \".\")\n",
        "print(mean_of_small_bag_organic)\n",
        "print(mean_of_large_bag_organic)"
      ],
      "execution_count": null,
      "outputs": [
        {
          "output_type": "stream",
          "text": [
            "The difference in means at the 95% confidence interval (two-tail) is between 0.03528748415842947 and 0.04948904249056678.\n",
            "102615955.93871416\n",
            "4288246.76783669\n"
          ],
          "name": "stdout"
        }
      ]
    },
    {
      "cell_type": "code",
      "metadata": {
        "id": "c9XtG-D9euJV",
        "colab_type": "code",
        "colab": {}
      },
      "source": [
        "#Separating intial dataframe so that one dataframe includes small bag data and the other shows just large bag data of conventional avocados \n",
        "#Discarding null values so that when log funtion is performed, only finite values exist\n",
        "small_bag_conventional = conventional_data[(conventional_data['Small Bags'] > 0 )]\n",
        "large_bag_conventional = conventional_data[(conventional_data['Large Bags'] > 0 )]"
      ],
      "execution_count": null,
      "outputs": []
    },
    {
      "cell_type": "code",
      "metadata": {
        "id": "OLp3Pl21ey5P",
        "colab_type": "code",
        "colab": {}
      },
      "source": [
        "#Taking the log of small bag and large bag data so that values are easier to plot \n",
        "#Discarding all null vlaues so only finite values exist\n",
        "small_bag_conventional['Log of Small Bags']=np.log(small_bag_conventional['Small Bags'])\n",
        "\n",
        "large_bag_conventional['Log of Large Bags']=np.log(large_bag_conventional['Large Bags'])"
      ],
      "execution_count": null,
      "outputs": []
    },
    {
      "cell_type": "code",
      "metadata": {
        "id": "UUNSOa9tfFGI",
        "colab_type": "code",
        "colab": {
          "base_uri": "https://localhost:8080/",
          "height": 319
        },
        "outputId": "ca6373ce-d1af-4a1b-ecf6-08eb5f0f30a6"
      },
      "source": [
        "#Plotting total amount of small bags and large bags of conventional avocados sold and assessing for normality\n",
        "plt.hist(small_bag_conventional['Log of Small Bags'], alpha = .5,color='gold')\n",
        "plt.hist(large_bag_conventional['Log of Large Bags'], alpha = .5,color='tomato')\n",
        "plt.show()\n",
        "\n",
        "print(stats.describe(small_bag_conventional['Log of Small Bags']))\n",
        "print(stats.describe(large_bag_conventional['Log of Large Bags']))"
      ],
      "execution_count": null,
      "outputs": [
        {
          "output_type": "display_data",
          "data": {
            "image/png": "[encoded data removed]",
            "text/plain": [
              "<Figure size 432x288 with 1 Axes>"
            ]
          },
          "metadata": {
            "tags": []
          }
        },
        {
          "output_type": "stream",
          "text": [
            "DescribeResult(nobs=7774, minmax=(7.020351553284526, 15.038865289339745), mean=11.26712341773537, variance=1.2969969102637091, skewness=0.4728799820374604, kurtosis=0.21767067526159378)\n",
            "DescribeResult(nobs=7450, minmax=(0.28517894223366247, 13.863762615475522), mean=9.060922474360195, variance=5.166657287581617, skewness=-0.820132398806123, kurtosis=0.7991602737013417)\n"
          ],
          "name": "stdout"
        }
      ]
    },
    {
      "cell_type": "code",
      "metadata": {
        "id": "U3jgBvsOfdPc",
        "colab_type": "code",
        "colab": {
          "base_uri": "https://localhost:8080/",
          "height": 34
        },
        "outputId": "ef2cced3-528f-4e4e-fbc8-58079d60898b"
      },
      "source": [
        "#Since data is normally distributed, using t test to check for significance\n",
        "print(stats.ttest_ind(small_bag_conventional['Log of Small Bags'],large_bag_conventional['Log of Large Bags']))"
      ],
      "execution_count": null,
      "outputs": [
        {
          "output_type": "stream",
          "text": [
            "Ttest_indResult(statistic=76.18016154969695, pvalue=0.0)\n"
          ],
          "name": "stdout"
        }
      ]
    },
    {
      "cell_type": "code",
      "metadata": {
        "id": "8CajoghrgAJV",
        "colab_type": "code",
        "colab": {
          "base_uri": "https://localhost:8080/",
          "height": 68
        },
        "outputId": "20f4b33c-4a41-42ed-af8b-eecf24691985"
      },
      "source": [
        "#95% confidence interval test and means of each variable\n",
        "print(get_95_ci(small_bag_conventional['Log of Small Bags'], large_bag_conventional['Log of Large Bags']))\n",
        "\n",
        "print(small_bag_conventional['Log of Small Bags'].mean())\n",
        "print(large_bag_conventional['Log of Large Bags'].mean())"
      ],
      "execution_count": null,
      "outputs": [
        {
          "output_type": "stream",
          "text": [
            "The difference in means at the 95% confidence interval (two-tail) is between -2.263691082108222 and -2.148710804642141.\n",
            "11.26712341773539\n",
            "9.060922474360208\n"
          ],
          "name": "stdout"
        }
      ]
    },
    {
      "cell_type": "code",
      "metadata": {
        "id": "MykrIb3xz5sU",
        "colab_type": "code",
        "colab": {
          "base_uri": "https://localhost:8080/",
          "height": 68
        },
        "outputId": "7ee50cde-34c0-4710-e677-12ca5a9e8b92"
      },
      "source": [
        "#The values given are all in log form in previous cell, so taking the inverse log to get exact value\n",
        "confidence_interval_small_conventional_1 = math.pow ( 10 , -2.167459903569464)\n",
        "confidence_interval_small_conventional_2 = math.pow ( 10 , -2.0502740988249655)\n",
        "mean_of_small_bag_conventional = math.pow ( 10 , 11.521512252390522 )\n",
        "mean_of_large_bag_conventional = math.pow ( 10 , 9.412645251193307)\n",
        "\n",
        "print('The difference in means at the 95% confidence interval (two-tail) is between '  +str(confidence_interval_small_conventional_1)+  ' and ' +str(confidence_interval_small_conventional_2)+ \".\")\n",
        "print(mean_of_small_bag_conventional)\n",
        "print(mean_of_large_bag_conventional)"
      ],
      "execution_count": null,
      "outputs": [
        {
          "output_type": "stream",
          "text": [
            "The difference in means at the 95% confidence interval (two-tail) is between 0.006800488279145057 and 0.00890688615168731.\n",
            "332286159593.0505\n",
            "2586099624.31789\n"
          ],
          "name": "stdout"
        }
      ]
    },
    {
      "cell_type": "code",
      "metadata": {
        "id": "geaOHyD5DCNO",
        "colab_type": "code",
        "colab": {
          "base_uri": "https://localhost:8080/",
          "height": 1000
        },
        "outputId": "680fe2bc-236b-4bce-fc47-ae4088dbeedc"
      },
      "source": [
        "av_price_region = organic_data[[ 'AveragePrice', 'region']].groupby('region').mean()\n",
        "av_price_region.sort_values(by=['AveragePrice'])"
      ],
      "execution_count": null,
      "outputs": [
        {
          "output_type": "execute_result",
          "data": {
            "text/html": [
              "<div>\n",
              "<style scoped>\n",
              "    .dataframe tbody tr th:only-of-type {\n",
              "        vertical-align: middle;\n",
              "    }\n",
              "\n",
              "    .dataframe tbody tr th {\n",
              "        vertical-align: top;\n",
              "    }\n",
              "\n",
              "    .dataframe thead th {\n",
              "        text-align: right;\n",
              "    }\n",
              "</style>\n",
              "<table border=\"1\" class=\"dataframe\">\n",
              "  <thead>\n",
              "    <tr style=\"text-align: right;\">\n",
              "      <th></th>\n",
              "      <th>AveragePrice</th>\n",
              "    </tr>\n",
              "    <tr>\n",
              "      <th>region</th>\n",
              "      <th></th>\n",
              "    </tr>\n",
              "  </thead>\n",
              "  <tbody>\n",
              "    <tr>\n",
              "      <th>Houston</th>\n",
              "      <td>1.270769</td>\n",
              "    </tr>\n",
              "    <tr>\n",
              "      <th>DallasFtWorth</th>\n",
              "      <td>1.324734</td>\n",
              "    </tr>\n",
              "    <tr>\n",
              "      <th>SouthCentral</th>\n",
              "      <td>1.333077</td>\n",
              "    </tr>\n",
              "    <tr>\n",
              "      <th>Denver</th>\n",
              "      <td>1.363195</td>\n",
              "    </tr>\n",
              "    <tr>\n",
              "      <th>Roanoke</th>\n",
              "      <td>1.399822</td>\n",
              "    </tr>\n",
              "    <tr>\n",
              "      <th>CincinnatiDayton</th>\n",
              "      <td>1.402899</td>\n",
              "    </tr>\n",
              "    <tr>\n",
              "      <th>Nashville</th>\n",
              "      <td>1.411302</td>\n",
              "    </tr>\n",
              "    <tr>\n",
              "      <th>Detroit</th>\n",
              "      <td>1.428225</td>\n",
              "    </tr>\n",
              "    <tr>\n",
              "      <th>Columbus</th>\n",
              "      <td>1.439290</td>\n",
              "    </tr>\n",
              "    <tr>\n",
              "      <th>LosAngeles</th>\n",
              "      <td>1.455562</td>\n",
              "    </tr>\n",
              "    <tr>\n",
              "      <th>RichmondNorfolk</th>\n",
              "      <td>1.462840</td>\n",
              "    </tr>\n",
              "    <tr>\n",
              "      <th>Louisville</th>\n",
              "      <td>1.468047</td>\n",
              "    </tr>\n",
              "    <tr>\n",
              "      <th>Pittsburgh</th>\n",
              "      <td>1.477988</td>\n",
              "    </tr>\n",
              "    <tr>\n",
              "      <th>Indianapolis</th>\n",
              "      <td>1.483136</td>\n",
              "    </tr>\n",
              "    <tr>\n",
              "      <th>GreatLakes</th>\n",
              "      <td>1.495207</td>\n",
              "    </tr>\n",
              "    <tr>\n",
              "      <th>NewOrleansMobile</th>\n",
              "      <td>1.524320</td>\n",
              "    </tr>\n",
              "    <tr>\n",
              "      <th>Portland</th>\n",
              "      <td>1.588935</td>\n",
              "    </tr>\n",
              "    <tr>\n",
              "      <th>MiamiFtLauderdale</th>\n",
              "      <td>1.602663</td>\n",
              "    </tr>\n",
              "    <tr>\n",
              "      <th>Atlanta</th>\n",
              "      <td>1.607101</td>\n",
              "    </tr>\n",
              "    <tr>\n",
              "      <th>Tampa</th>\n",
              "      <td>1.616095</td>\n",
              "    </tr>\n",
              "    <tr>\n",
              "      <th>Boise</th>\n",
              "      <td>1.620237</td>\n",
              "    </tr>\n",
              "    <tr>\n",
              "      <th>BuffaloRochester</th>\n",
              "      <td>1.651361</td>\n",
              "    </tr>\n",
              "    <tr>\n",
              "      <th>Syracuse</th>\n",
              "      <td>1.653728</td>\n",
              "    </tr>\n",
              "    <tr>\n",
              "      <th>StLouis</th>\n",
              "      <td>1.675503</td>\n",
              "    </tr>\n",
              "    <tr>\n",
              "      <th>GrandRapids</th>\n",
              "      <td>1.684970</td>\n",
              "    </tr>\n",
              "    <tr>\n",
              "      <th>Plains</th>\n",
              "      <td>1.707515</td>\n",
              "    </tr>\n",
              "    <tr>\n",
              "      <th>Seattle</th>\n",
              "      <td>1.715385</td>\n",
              "    </tr>\n",
              "    <tr>\n",
              "      <th>PhoenixTucson</th>\n",
              "      <td>1.720651</td>\n",
              "    </tr>\n",
              "    <tr>\n",
              "      <th>BaltimoreWashington</th>\n",
              "      <td>1.724260</td>\n",
              "    </tr>\n",
              "    <tr>\n",
              "      <th>SanDiego</th>\n",
              "      <td>1.734852</td>\n",
              "    </tr>\n",
              "    <tr>\n",
              "      <th>Chicago</th>\n",
              "      <td>1.744201</td>\n",
              "    </tr>\n",
              "    <tr>\n",
              "      <th>LasVegas</th>\n",
              "      <td>1.748876</td>\n",
              "    </tr>\n",
              "    <tr>\n",
              "      <th>Boston</th>\n",
              "      <td>1.757396</td>\n",
              "    </tr>\n",
              "    <tr>\n",
              "      <th>HarrisburgScranton</th>\n",
              "      <td>1.767751</td>\n",
              "    </tr>\n",
              "    <tr>\n",
              "      <th>Albany</th>\n",
              "      <td>1.773314</td>\n",
              "    </tr>\n",
              "    <tr>\n",
              "      <th>Spokane</th>\n",
              "      <td>1.775207</td>\n",
              "    </tr>\n",
              "    <tr>\n",
              "      <th>Orlando</th>\n",
              "      <td>1.797988</td>\n",
              "    </tr>\n",
              "    <tr>\n",
              "      <th>Jacksonville</th>\n",
              "      <td>1.828284</td>\n",
              "    </tr>\n",
              "    <tr>\n",
              "      <th>Northeast</th>\n",
              "      <td>1.859408</td>\n",
              "    </tr>\n",
              "    <tr>\n",
              "      <th>Philadelphia</th>\n",
              "      <td>1.867929</td>\n",
              "    </tr>\n",
              "    <tr>\n",
              "      <th>RaleighGreensboro</th>\n",
              "      <td>1.883136</td>\n",
              "    </tr>\n",
              "    <tr>\n",
              "      <th>Charlotte</th>\n",
              "      <td>1.936982</td>\n",
              "    </tr>\n",
              "    <tr>\n",
              "      <th>Sacramento</th>\n",
              "      <td>1.969172</td>\n",
              "    </tr>\n",
              "    <tr>\n",
              "      <th>NewYork</th>\n",
              "      <td>2.053018</td>\n",
              "    </tr>\n",
              "    <tr>\n",
              "      <th>SanFrancisco</th>\n",
              "      <td>2.211243</td>\n",
              "    </tr>\n",
              "    <tr>\n",
              "      <th>HartfordSpringfield</th>\n",
              "      <td>2.229231</td>\n",
              "    </tr>\n",
              "  </tbody>\n",
              "</table>\n",
              "</div>"
            ],
            "text/plain": [
              "                     AveragePrice\n",
              "region                           \n",
              "Houston                  1.270769\n",
              "DallasFtWorth            1.324734\n",
              "SouthCentral             1.333077\n",
              "Denver                   1.363195\n",
              "Roanoke                  1.399822\n",
              "CincinnatiDayton         1.402899\n",
              "Nashville                1.411302\n",
              "Detroit                  1.428225\n",
              "Columbus                 1.439290\n",
              "LosAngeles               1.455562\n",
              "RichmondNorfolk          1.462840\n",
              "Louisville               1.468047\n",
              "Pittsburgh               1.477988\n",
              "Indianapolis             1.483136\n",
              "GreatLakes               1.495207\n",
              "NewOrleansMobile         1.524320\n",
              "Portland                 1.588935\n",
              "MiamiFtLauderdale        1.602663\n",
              "Atlanta                  1.607101\n",
              "Tampa                    1.616095\n",
              "Boise                    1.620237\n",
              "BuffaloRochester         1.651361\n",
              "Syracuse                 1.653728\n",
              "StLouis                  1.675503\n",
              "GrandRapids              1.684970\n",
              "Plains                   1.707515\n",
              "Seattle                  1.715385\n",
              "PhoenixTucson            1.720651\n",
              "BaltimoreWashington      1.724260\n",
              "SanDiego                 1.734852\n",
              "Chicago                  1.744201\n",
              "LasVegas                 1.748876\n",
              "Boston                   1.757396\n",
              "HarrisburgScranton       1.767751\n",
              "Albany                   1.773314\n",
              "Spokane                  1.775207\n",
              "Orlando                  1.797988\n",
              "Jacksonville             1.828284\n",
              "Northeast                1.859408\n",
              "Philadelphia             1.867929\n",
              "RaleighGreensboro        1.883136\n",
              "Charlotte                1.936982\n",
              "Sacramento               1.969172\n",
              "NewYork                  2.053018\n",
              "SanFrancisco             2.211243\n",
              "HartfordSpringfield      2.229231"
            ]
          },
          "metadata": {
            "tags": []
          },
          "execution_count": 34
        }
      ]
    },
    {
      "cell_type": "code",
      "metadata": {
        "id": "cc_ZwsuXFew5",
        "colab_type": "code",
        "colab": {
          "base_uri": "https://localhost:8080/",
          "height": 720
        },
        "outputId": "c26499df-3d2b-46f5-8a75-1611421c8079"
      },
      "source": [
        "av_price_region.plot(kind= 'bar', figsize=(20,10), color = 'pink')"
      ],
      "execution_count": null,
      "outputs": [
        {
          "output_type": "execute_result",
          "data": {
            "text/plain": [
              "<matplotlib.axes._subplots.AxesSubplot at 0x7fef59dac0f0>"
            ]
          },
          "metadata": {
            "tags": []
          },
          "execution_count": 35
        },
        {
          "output_type": "display_data",
          "data": {
            "image/png": "[encoded data removed]",
            "text/plain": [
              "<Figure size 1440x720 with 1 Axes>"
            ]
          },
          "metadata": {
            "tags": []
          }
        }
      ]
    },
    {
      "cell_type": "markdown",
      "metadata": {
        "id": "kqq_1uMSpX7x",
        "colab_type": "text"
      },
      "source": [
        "# 5. Results\n",
        "Hypothesis 1:\n",
        "Based on a visual inspection and further inspection with kurtosis and skewness values, the average price of organic and conventional avocados sales are normally distributed and I proceeded with the t-test. Based on a p-value of 0.0, I rejected the null hypothesis that there is no significant difference in means of the average price.\n",
        "\n",
        "The 95% confidence interval suggests that the difference in the average prices between organic and conventional avocados is between -0.0083 and 0.0083 USD. The mean of the average price of conventional avocados is 1.16 USD and the mean of average price of organic avocados is 1.65 USD.\n",
        "\n",
        "Hypothesis 2:\n",
        "Based on a visual inspection and further inspection with kurtosis and skewness values, the total number of organic avocados and conventional avocados sold per day are normally distributed and I proceeded with the t-test. Based on a p-value of 0.0, I rejected the null hypothesis that there is no significant difference in means of the total number of organic avocados and conventional avocados sold per day.\n",
        "\n",
        "The 95% confidence interval suggests that the difference in the total number of avocados sold per day between organic and conventional avocados is between 0.00020 and 0.00024 avocados. The mean of total number of organic avocados sold per day is 3085317587 avocados and the mean of total number of conventional avocados sold per day is 13889539474173 avocados. \n",
        "\n",
        "Hypothesis 3\n",
        "Based on a visual inspection and further inspection with kurtosis and skewness values, the total number of small bags of organic avocados sold per day and large bag of organic avocados sold per day are normally distributed and I proceeded with the t-test. Based on a p-value of 4.710454972242826e-278, I rejected the null hypothesis that there is no significant difference in means of the total number of small bags of organic avocados sold per day and large bag of organic avocados sold per day.\n",
        "\n",
        "The 95% confidence interval suggests that the difference in the total number of small bags of organic avocados sold per day and large bag of organic avocados sold per day is between 0.035 and 0.050.\n",
        "The mean of total number of small bags of organic avocados sold per day is 102615956 bags and the mean of total number of large bag of organic avocados sold per day is 4288247 bags. \n",
        "\n",
        "Hypothesis 4\n",
        "Based on a visual inspection and further inspection with kurtosis and skewness values, the total number of small bags of conventional avocados sold per day and large bag of conventional avocados sold per day are normally distributed and I proceeded with the t-test. Based on a p-value of 0.0, I rejected the null hypothesis that there is no significant difference in means of the total number of small bags of conventional avocados sold per day and large bag of conventional avocados sold per day.\n",
        "\n",
        "The 95% confidence interval suggests that the difference in the total number of small bags of conventional avocados sold per day and large bag of conventional avocados sold per day is between 0.0068 and 0.0089.\n",
        "The mean of total number of small bags of conventional avocados sold per day is 332286159593 bags and the mean of total number of large bag of conventional avocados sold per day is 2586099624 bags. \n"
      ]
    },
    {
      "cell_type": "markdown",
      "metadata": {
        "id": "WH1S87WL5EYJ",
        "colab_type": "text"
      },
      "source": [
        "# 6. Discussion and recommendation\n",
        "Upon analysis, it can be concluded that there is a signficant difference betweeen the average price of organic Hass avocados and conventional Hass avocados from 3rd Janurary 2015 to March 24th 2018 across the USA, with the mean average price of organic Hass avocados being higher. In addition there was a significant difference in the total number of organic and conventional Hass avocados sold per day from 3rd Janurary 2015 to March 24th 2018 across the USA, with more conventional Hass avocados sold than organic ones. In addition, there was a significant difference between the number of small bags of organic Hass avocados and large bags of organic Hass avocados from 3rd Janurary 2015 to March 24th 2018 across the USA, with more small bags sold. Lastly, there was a significant difference between the number of the number of small bags of conventional Hass avocados and large bags of conventional Hass avocados from 3rd Janurary 2015 to March 24th 2018 across the USA, with more small bags sold. \n",
        "\n",
        "This data is useful to both the consumer and companies. This data can help companies recognize how to perhaps package their product (ie. large vs small bags) and also can show them what type of avocado crop need they need to harvest more (conventional vs. organic) based on consumer purchases. This can also be helpful for the consumer to see how much avocados cost on average and perhaps when would be the best time of year to purchase avocados. Since the avocado mania is still going strong, this dataset provides interesting insight into the sale and production of avocados in the USA. "
      ]
    }
  ]
}